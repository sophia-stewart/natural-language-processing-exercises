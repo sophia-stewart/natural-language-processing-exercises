{
 "cells": [
  {
   "cell_type": "markdown",
   "id": "b7875804",
   "metadata": {},
   "source": [
    "# Regular Expressions Exercises\n",
    "---\n",
    "\n",
    "### 1. Write a function named `is_vowel`. It should accept a string as input and use a regular expression to determine if the passed string is a vowel. While not explicity mentioned in the lesson, you can treat the result of re.search as a boolean value that indicates whether or not the regular expression matches the given string."
   ]
  },
  {
   "cell_type": "code",
   "execution_count": 2,
   "id": "a662e3e2",
   "metadata": {},
   "outputs": [],
   "source": [
    "# import\n",
    "import regex as re"
   ]
  },
  {
   "cell_type": "code",
   "execution_count": 32,
   "id": "d9e4391a",
   "metadata": {},
   "outputs": [
    {
     "data": {
      "text/plain": [
       "<regex.Match object; span=(0, 1), match='O'>"
      ]
     },
     "execution_count": 32,
     "metadata": {},
     "output_type": "execute_result"
    }
   ],
   "source": [
    "# regex search for single vowel\n",
    "re.search(r\"^[aeiou]$\", \"O\", re.IGNORECASE)"
   ]
  },
  {
   "cell_type": "code",
   "execution_count": 29,
   "id": "3c0c73b9",
   "metadata": {},
   "outputs": [
    {
     "data": {
      "text/plain": [
       "(False, True)"
      ]
     },
     "execution_count": 29,
     "metadata": {},
     "output_type": "execute_result"
    }
   ],
   "source": [
    "# define function\n",
    "def is_vowel(string):\n",
    "    '''\n",
    "    This function takes in a string and returns True if the passed string is a vowel.\n",
    "    '''\n",
    "    return bool(re.search(r\"^[aeiou]$\", string, re.IGNORECASE))\n",
    "# test function\n",
    "is_vowel('b'), is_vowel('u')"
   ]
  },
  {
   "cell_type": "markdown",
   "id": "c46e9e13",
   "metadata": {},
   "source": [
    "### 2. Write a function named `is_valid_username` that accepts a string as input. A valid username starts with a lowercase letter, and only consists of lowercase letters, numbers, or the `_` character. It should also be no longer than 32 characters. The function should return either `True` or `False` depending on whether the passed string is a valid username.\n",
    "- is_valid_username('aaaaaaaaaaaaaaaaaaaaaaaaaaaaaaaaa')\n",
    " - False\n",
    "- is_valid_username('codeup')\n",
    " - True\n",
    "- is_valid_username('Codeup')\n",
    " - False\n",
    "- is_valid_username('codeup123')\n",
    " - True\n",
    "- is_valid_username('1codeup')\n",
    " - False"
   ]
  },
  {
   "cell_type": "code",
   "execution_count": 39,
   "id": "5868432a",
   "metadata": {},
   "outputs": [
    {
     "data": {
      "text/plain": [
       "<regex.Match object; span=(0, 6), match='codeup'>"
      ]
     },
     "execution_count": 39,
     "metadata": {},
     "output_type": "execute_result"
    }
   ],
   "source": [
    "# regex search for:\n",
    "# 1. starts with lowercase alpha\n",
    "# 2. next is alphanumeric or _\n",
    "# 3. strings ends by 31st iteration of 2\n",
    "re.search(r\"^[a-z][a-z0-9_]{,31}$\", 'codeup')"
   ]
  },
  {
   "cell_type": "code",
   "execution_count": 38,
   "id": "d3bee4fb",
   "metadata": {},
   "outputs": [
    {
     "name": "stdout",
     "output_type": "stream",
     "text": [
      "False\n",
      "True\n",
      "False\n",
      "True\n",
      "False\n"
     ]
    }
   ],
   "source": [
    "# define function\n",
    "def is_valid_username(string):\n",
    "    '''\n",
    "    This function takes in a string and returns True if it meets the requirements for a \n",
    "    valid username. A valid username consists only of lowercase letters, numbers, or the \n",
    "    _ character, and is no longer than 32 characters.\n",
    "    '''\n",
    "    return bool(re.search(r\"^[a-z][a-z0-9_]{,31}$\", string))\n",
    "# test function\n",
    "print(is_valid_username('aaaaaaaaaaaaaaaaaaaaaaaaaaaaaaaaa'))\n",
    "print(is_valid_username('codeup'))\n",
    "print(is_valid_username('Codeup'))\n",
    "print(is_valid_username('codeup123'))\n",
    "print(is_valid_username('1codeup'))"
   ]
  },
  {
   "cell_type": "markdown",
   "id": "3e2bb0e3",
   "metadata": {},
   "source": [
    "### 3. Write a regular expression to capture phone numbers. It should match all of the following:\n",
    "- (210) 867 5309\n",
    "- +1 210.867.5309\n",
    "- 867-5309\n",
    "- 210-867-5309"
   ]
  },
  {
   "cell_type": "code",
   "execution_count": 46,
   "id": "bcd32415",
   "metadata": {},
   "outputs": [
    {
     "data": {
      "text/plain": [
       "<regex.Match object; span=(0, 7), match='8675309'>"
      ]
     },
     "execution_count": 46,
     "metadata": {},
     "output_type": "execute_result"
    }
   ],
   "source": [
    "# put subject strings in order of increasing complexity\n",
    "# solve one at a time\n",
    "#add optionality as pattern increases\n",
    "\n",
    "re.search(r'\\d{7}', '8675309')"
   ]
  },
  {
   "cell_type": "code",
   "execution_count": 47,
   "id": "8d473533",
   "metadata": {},
   "outputs": [
    {
     "data": {
      "text/plain": [
       "<regex.Match object; span=(0, 8), match='867-5309'>"
      ]
     },
     "execution_count": 47,
     "metadata": {},
     "output_type": "execute_result"
    }
   ],
   "source": [
    "re.search(r'\\d{3}-\\d{4}', '867-5309')"
   ]
  },
  {
   "cell_type": "code",
   "execution_count": 48,
   "id": "d351ad2f",
   "metadata": {},
   "outputs": [
    {
     "data": {
      "text/plain": [
       "<regex.Match object; span=(0, 8), match='867 5309'>"
      ]
     },
     "execution_count": 48,
     "metadata": {},
     "output_type": "execute_result"
    }
   ],
   "source": [
    "re.search(r'\\d{3}[-. ]\\d{4}', '867 5309')"
   ]
  },
  {
   "cell_type": "code",
   "execution_count": 50,
   "id": "1a232864",
   "metadata": {},
   "outputs": [
    {
     "data": {
      "text/plain": [
       "<regex.Match object; span=(0, 8), match='867-5309'>"
      ]
     },
     "execution_count": 50,
     "metadata": {},
     "output_type": "execute_result"
    }
   ],
   "source": [
    "# \\D means not a digit\n",
    "re.search(r'\\d{3}\\D?\\d{4}', '867-5309')"
   ]
  },
  {
   "cell_type": "code",
   "execution_count": 56,
   "id": "11c1b8d7",
   "metadata": {},
   "outputs": [
    {
     "data": {
      "text/plain": [
       "<regex.Match object; span=(0, 14), match='(210) 867 5309'>"
      ]
     },
     "execution_count": 56,
     "metadata": {},
     "output_type": "execute_result"
    }
   ],
   "source": [
    "re.search(r\"(\\+?\\d+)?.?(\\(?\\d{3}\\)?)?.?\\d{3}.?\\d{4}\", '(210) 867 5309')"
   ]
  },
  {
   "cell_type": "code",
   "execution_count": 63,
   "id": "d9077b53",
   "metadata": {},
   "outputs": [],
   "source": [
    "# make sure it works on every phone number in list above\n",
    "assert bool(re.search(r\"(\\+?[0-9]+)?.?(\\(?[0-9]{3}\\)?)?.?[0-9]{3}.?[0-9]{4}\", '(210) 867 5309')) == True\n",
    "assert bool(re.search(r\"(\\+?[0-9]+)?.?(\\(?[0-9]{3}\\)?)?.?[0-9]{3}.?[0-9]{4}\", '+1 210.867.5309')) == True\n",
    "assert bool(re.search(r\"(\\+?[0-9]+)?.?(\\(?[0-9]{3}\\)?)?.?[0-9]{3}.?[0-9]{4}\", '867-5309')) == True\n",
    "assert bool(re.search(r\"(\\+?[0-9]+)?.?(\\(?[0-9]{3}\\)?)?.?[0-9]{3}.?[0-9]{4}\", '210-867-5309')) == True"
   ]
  },
  {
   "cell_type": "markdown",
   "id": "5a954787",
   "metadata": {},
   "source": [
    "### 4. Use regular expressions to convert the dates below to the standardized year-month-day format.\n",
    "- 02/04/19\n",
    "- 02/05/19\n",
    "- 02/06/19\n",
    "- 02/07/19\n",
    "- 02/08/19\n",
    "- 02/09/19\n",
    "- 02/10/19"
   ]
  },
  {
   "cell_type": "code",
   "execution_count": null,
   "id": "bd61a69a",
   "metadata": {},
   "outputs": [],
   "source": []
  },
  {
   "cell_type": "markdown",
   "id": "2240c3aa",
   "metadata": {},
   "source": [
    "### 5. Write a regex to extract the various parts of these logfile lines:\n",
    "- GET /api/v1/sales?page=86 [16/Apr/2019:193452+0000] HTTP/1.1 {200} 510348 \"python-requests/2.21.0\" 97.105.19.58\n",
    "- POST /users_accounts/file-upload [16/Apr/2019:193452+0000] HTTP/1.1 {201} 42 \"User-Agent: Mozilla/5.0 (X11; Fedora; Fedora; Linux x86_64) AppleWebKit/537.36 (KHTML, like Gecko) Chrome/73.0.3683.86 Safari/537.36\" 97.105.19.58\n",
    "- GET /api/v1/items?page=3 [16/Apr/2019:193453+0000] HTTP/1.1 {429} 3561 \"python-requests/2.21.0\" 97.105.19.58"
   ]
  },
  {
   "cell_type": "code",
   "execution_count": null,
   "id": "342d1503",
   "metadata": {},
   "outputs": [],
   "source": []
  },
  {
   "cell_type": "markdown",
   "id": "a65af42b",
   "metadata": {},
   "source": [
    "---\n",
    "### Bonus: You can find a list of words on your mac at /usr/share/dict/words. Use this file to answer the following questions:\n",
    "\n",
    "- How many words have at least 3 vowels?\n",
    "- How many words have at least 3 vowels in a row?\n",
    "- How many words have at least 4 consonants in a row?\n",
    "- How many words start and end with the same letter?\n",
    "- How many words start and end with a vowel?\n",
    "- How many words contain the same letter 3 times in a row?\n",
    "- What other interesting patterns in words can you find?"
   ]
  },
  {
   "cell_type": "code",
   "execution_count": null,
   "id": "376152ae",
   "metadata": {},
   "outputs": [],
   "source": []
  }
 ],
 "metadata": {
  "kernelspec": {
   "display_name": "Python 3",
   "language": "python",
   "name": "python3"
  },
  "language_info": {
   "codemirror_mode": {
    "name": "ipython",
    "version": 3
   },
   "file_extension": ".py",
   "mimetype": "text/x-python",
   "name": "python",
   "nbconvert_exporter": "python",
   "pygments_lexer": "ipython3",
   "version": "3.8.8"
  }
 },
 "nbformat": 4,
 "nbformat_minor": 5
}
